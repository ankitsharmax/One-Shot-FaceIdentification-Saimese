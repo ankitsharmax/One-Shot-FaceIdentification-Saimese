{
 "cells": [
  {
   "cell_type": "markdown",
   "metadata": {},
   "source": [
    "## Importing Libraries"
   ]
  },
  {
   "cell_type": "code",
   "execution_count": 1,
   "metadata": {},
   "outputs": [
    {
     "name": "stderr",
     "output_type": "stream",
     "text": [
      "c:\\python\\python37\\lib\\site-packages\\tensorflow\\python\\framework\\dtypes.py:516: FutureWarning: Passing (type, 1) or '1type' as a synonym of type is deprecated; in a future version of numpy, it will be understood as (type, (1,)) / '(1,)type'.\n",
      "  _np_qint8 = np.dtype([(\"qint8\", np.int8, 1)])\n",
      "c:\\python\\python37\\lib\\site-packages\\tensorflow\\python\\framework\\dtypes.py:517: FutureWarning: Passing (type, 1) or '1type' as a synonym of type is deprecated; in a future version of numpy, it will be understood as (type, (1,)) / '(1,)type'.\n",
      "  _np_quint8 = np.dtype([(\"quint8\", np.uint8, 1)])\n",
      "c:\\python\\python37\\lib\\site-packages\\tensorflow\\python\\framework\\dtypes.py:518: FutureWarning: Passing (type, 1) or '1type' as a synonym of type is deprecated; in a future version of numpy, it will be understood as (type, (1,)) / '(1,)type'.\n",
      "  _np_qint16 = np.dtype([(\"qint16\", np.int16, 1)])\n",
      "c:\\python\\python37\\lib\\site-packages\\tensorflow\\python\\framework\\dtypes.py:519: FutureWarning: Passing (type, 1) or '1type' as a synonym of type is deprecated; in a future version of numpy, it will be understood as (type, (1,)) / '(1,)type'.\n",
      "  _np_quint16 = np.dtype([(\"quint16\", np.uint16, 1)])\n",
      "c:\\python\\python37\\lib\\site-packages\\tensorflow\\python\\framework\\dtypes.py:520: FutureWarning: Passing (type, 1) or '1type' as a synonym of type is deprecated; in a future version of numpy, it will be understood as (type, (1,)) / '(1,)type'.\n",
      "  _np_qint32 = np.dtype([(\"qint32\", np.int32, 1)])\n",
      "c:\\python\\python37\\lib\\site-packages\\tensorflow\\python\\framework\\dtypes.py:525: FutureWarning: Passing (type, 1) or '1type' as a synonym of type is deprecated; in a future version of numpy, it will be understood as (type, (1,)) / '(1,)type'.\n",
      "  np_resource = np.dtype([(\"resource\", np.ubyte, 1)])\n",
      "c:\\python\\python37\\lib\\site-packages\\tensorboard\\compat\\tensorflow_stub\\dtypes.py:541: FutureWarning: Passing (type, 1) or '1type' as a synonym of type is deprecated; in a future version of numpy, it will be understood as (type, (1,)) / '(1,)type'.\n",
      "  _np_qint8 = np.dtype([(\"qint8\", np.int8, 1)])\n",
      "c:\\python\\python37\\lib\\site-packages\\tensorboard\\compat\\tensorflow_stub\\dtypes.py:542: FutureWarning: Passing (type, 1) or '1type' as a synonym of type is deprecated; in a future version of numpy, it will be understood as (type, (1,)) / '(1,)type'.\n",
      "  _np_quint8 = np.dtype([(\"quint8\", np.uint8, 1)])\n",
      "c:\\python\\python37\\lib\\site-packages\\tensorboard\\compat\\tensorflow_stub\\dtypes.py:543: FutureWarning: Passing (type, 1) or '1type' as a synonym of type is deprecated; in a future version of numpy, it will be understood as (type, (1,)) / '(1,)type'.\n",
      "  _np_qint16 = np.dtype([(\"qint16\", np.int16, 1)])\n",
      "c:\\python\\python37\\lib\\site-packages\\tensorboard\\compat\\tensorflow_stub\\dtypes.py:544: FutureWarning: Passing (type, 1) or '1type' as a synonym of type is deprecated; in a future version of numpy, it will be understood as (type, (1,)) / '(1,)type'.\n",
      "  _np_quint16 = np.dtype([(\"quint16\", np.uint16, 1)])\n",
      "c:\\python\\python37\\lib\\site-packages\\tensorboard\\compat\\tensorflow_stub\\dtypes.py:545: FutureWarning: Passing (type, 1) or '1type' as a synonym of type is deprecated; in a future version of numpy, it will be understood as (type, (1,)) / '(1,)type'.\n",
      "  _np_qint32 = np.dtype([(\"qint32\", np.int32, 1)])\n",
      "c:\\python\\python37\\lib\\site-packages\\tensorboard\\compat\\tensorflow_stub\\dtypes.py:550: FutureWarning: Passing (type, 1) or '1type' as a synonym of type is deprecated; in a future version of numpy, it will be understood as (type, (1,)) / '(1,)type'.\n",
      "  np_resource = np.dtype([(\"resource\", np.ubyte, 1)])\n",
      "Using TensorFlow backend.\n"
     ]
    }
   ],
   "source": [
    "import cv2\n",
    "import os\n",
    "import numpy as np\n",
    "from numpy import genfromtxt\n",
    "import pandas as pd\n",
    "import tensorflow as tf\n",
    "from utils import LRN2D\n",
    "import utils\n",
    "import model\n",
    "import process\n",
    "\n",
    "%load_ext autoreload\n",
    "%autoreload 2"
   ]
  },
  {
   "cell_type": "code",
   "execution_count": null,
   "metadata": {},
   "outputs": [],
   "source": [
    "# model = model_.model_structure()"
   ]
  },
  {
   "cell_type": "markdown",
   "metadata": {},
   "source": [
    "## Load weights from pretrained model"
   ]
  },
  {
   "cell_type": "code",
   "execution_count": null,
   "metadata": {},
   "outputs": [],
   "source": [
    "# # Load weights from csv files (which was exported from Openface torch model)\n",
    "# weights = utils.weights\n",
    "# weights_dict = utils.load_weights()\n",
    "\n",
    "# # Set layer weights of the model\n",
    "# for name in weights:\n",
    "#     if model.get_layer(name) != None:\n",
    "#         model.get_layer(name).set_weights(weights_dict[name])\n",
    "#     elif model.get_layer(name) != None:\n",
    "#         model.get_layer(name).set_weights(weights_dict[name])"
   ]
  },
  {
   "cell_type": "code",
   "execution_count": null,
   "metadata": {},
   "outputs": [],
   "source": [
    "# model.save_weights('check')"
   ]
  },
  {
   "cell_type": "code",
   "execution_count": 2,
   "metadata": {},
   "outputs": [
    {
     "name": "stdout",
     "output_type": "stream",
     "text": [
      "WARNING:tensorflow:From c:\\python\\python37\\lib\\site-packages\\keras\\backend\\tensorflow_backend.py:4070: The name tf.nn.max_pool is deprecated. Please use tf.nn.max_pool2d instead.\n",
      "\n",
      "WARNING:tensorflow:From c:\\python\\python37\\lib\\site-packages\\keras\\backend\\tensorflow_backend.py:4074: The name tf.nn.avg_pool is deprecated. Please use tf.nn.avg_pool2d instead.\n",
      "\n"
     ]
    }
   ],
   "source": [
    "model = model.model_structure()"
   ]
  },
  {
   "cell_type": "code",
   "execution_count": 3,
   "metadata": {},
   "outputs": [],
   "source": [
    "model.load_weights('check')"
   ]
  },
  {
   "cell_type": "markdown",
   "metadata": {},
   "source": [
    "## Capturing faces"
   ]
  },
  {
   "cell_type": "markdown",
   "metadata": {},
   "source": [
    "## - Webcam"
   ]
  },
  {
   "cell_type": "code",
   "execution_count": null,
   "metadata": {},
   "outputs": [],
   "source": [
    "def face_capture(userName):\n",
    "    cam = cv2.VideoCapture(0)\n",
    "\n",
    "    face_detector = cv2.CascadeClassifier('haarcascade_frontalface_default.xml')\n",
    "    \n",
    "    count = 0\n",
    "    while(True):\n",
    "        ret, img = cam.read()\n",
    "        cv2.imshow(\"image\",img)\n",
    "        #gray = cv2.cvtColor(img, cv2.COLOR_BGR2GRAY)\n",
    "        faces = face_detector.detectMultiScale(img, 1.3, 5)\n",
    "        for (x,y,w,h) in faces:\n",
    "            x1 = x\n",
    "            y1 = y\n",
    "            x2 = x+w\n",
    "            y2 = y+h\n",
    "            cv2.rectangle(img, (x1,y1), (x2,y2), (255,255,255), 2)     \n",
    "            count += 1\n",
    "            # Save the captured image into the datasets folder\n",
    "            if count == 10:\n",
    "                cv2.imwrite(f\"images/{userName}\" + \".jpg\", img[y1:y2,x1:x2])\n",
    "        k = cv2.waitKey(200) & 0xff # Press 'ESC' for exiting video\n",
    "        if k == 27:\n",
    "            break\n",
    "        elif count >= 30: # Take face sample and stop video\n",
    "             break\n",
    "    cam.release()\n",
    "    cv2.destroyAllWindows()"
   ]
  },
  {
   "cell_type": "markdown",
   "metadata": {},
   "source": [
    "## - ImagePath"
   ]
  },
  {
   "cell_type": "code",
   "execution_count": null,
   "metadata": {},
   "outputs": [],
   "source": [
    "def face_capture_image(userName,imgPath):\n",
    "    imgPath = f\"addUser/{imgPath}\"\n",
    "    img = cv2.imread(imgPath)\n",
    "    WIDTH = 600\n",
    "    img = imutils.resize(img,width=WIDTH)\n",
    "\n",
    "    face_detector = cv2.CascadeClassifier('haarcascade_frontalface_default.xml')\n",
    "\n",
    "    faces = face_detector.detectMultiScale(img,1.3,5)\n",
    "    for (x,y,w,h) in faces:\n",
    "        x1 = x\n",
    "        y1 = y\n",
    "        x2 = x+w\n",
    "        y2 = y+h\n",
    "        cv2.rectangle(img,(x1,y1),(x2,y2),(255,255,255),2)\n",
    "\n",
    "        cv2.imwrite(f\"images/{userName}\"+\".jpg\",img[y1:y2,x1:x2])\n",
    "        print(f\"User Added {userName}\")\n",
    "        cv2.destroyAllWindows()"
   ]
  },
  {
   "cell_type": "markdown",
   "metadata": {},
   "source": [
    "## 1. Capture faces"
   ]
  },
  {
   "cell_type": "code",
   "execution_count": null,
   "metadata": {},
   "outputs": [],
   "source": [
    "import matplotlib.pyplot as plt\n",
    "import os"
   ]
  },
  {
   "cell_type": "code",
   "execution_count": null,
   "metadata": {},
   "outputs": [],
   "source": []
  },
  {
   "cell_type": "code",
   "execution_count": null,
   "metadata": {},
   "outputs": [],
   "source": [
    "user = input(\"Enter name of the user \")\n",
    "z = os.listdir(\"images/\")\n",
    "if f\"{user}.jpg\" not in z:\n",
    "    face_capture(user)\n",
    "else:\n",
    "    print(\"User already present in the database\")\n",
    "    option = int(input(\"\\nChoose option\\n1.Update\\n2.Cancel\\n\\n\"))\n",
    "    if option == 1:\n",
    "        face_capture(user)\n",
    "\n",
    "# path = f'images/{user}.jpg'\n",
    "# im = plt.imread(path)\n",
    "# plt.xticks([])\n",
    "# plt.yticks([])\n",
    "# plt.title(user)\n",
    "# plt.imshow(im)"
   ]
  },
  {
   "cell_type": "code",
   "execution_count": null,
   "metadata": {},
   "outputs": [],
   "source": []
  },
  {
   "cell_type": "code",
   "execution_count": null,
   "metadata": {},
   "outputs": [],
   "source": [
    "import cv2\n",
    "import os\n",
    "import imutils\n",
    "\n",
    "user = input(\"Enter name of the user \")\n",
    "z = os.listdir(\"images/\")\n",
    "if f\"{user}.jpg\" not in z:\n",
    "    print(\"\\n#### Put your image in the addUser directory####\\n\")\n",
    "    imageName = input(\"Enter the name of the image with type\\nExample\\n- image.jpg\\n\\nImage Name: \")\n",
    "    face_capture_image(userName=user,imgPath=imageName)\n",
    "else:\n",
    "    print(\"User already present in the database\")\n",
    "    option = int(input(\"\\nChoose option\\n1.Update\\n2.Cancel\\n\\n\"))\n",
    "    if option == 1:\n",
    "        face_capture_image(userName=user,imgPath=imageName)"
   ]
  },
  {
   "cell_type": "markdown",
   "metadata": {},
   "source": [
    "## 2. Run the model"
   ]
  },
  {
   "cell_type": "code",
   "execution_count": 14,
   "metadata": {},
   "outputs": [],
   "source": [
    "input_embeddings = process.create_input_image_embeddings(model)\n",
    "# process.recognize_faces_in_cam(input_embeddings,model)"
   ]
  },
  {
   "cell_type": "markdown",
   "metadata": {},
   "source": [
    "## Testing and Running"
   ]
  },
  {
   "cell_type": "code",
   "execution_count": 21,
   "metadata": {},
   "outputs": [
    {
     "data": {
      "text/plain": [
       "{'ankit': array([[-0.04535592,  0.11877114,  0.09604801, -0.02746559,  0.00655375,\n",
       "          0.2664417 , -0.07279567,  0.02875434, -0.03558714, -0.05765909,\n",
       "          0.00506036, -0.07230225, -0.00255757, -0.12326233,  0.11683905,\n",
       "         -0.0601402 , -0.10549192, -0.04574217, -0.04436597, -0.00433365,\n",
       "          0.05151786, -0.06399747,  0.07662596,  0.05259002,  0.08408903,\n",
       "         -0.06714708, -0.09242869, -0.08870233,  0.04782192, -0.15571295,\n",
       "          0.28809378, -0.07690366, -0.06725828,  0.07135818,  0.05038142,\n",
       "          0.13815278, -0.04084692,  0.01621393,  0.01604621, -0.00255266,\n",
       "          0.12451801, -0.10823712, -0.05615313,  0.020857  , -0.06483253,\n",
       "         -0.09724224,  0.07040034,  0.06448827, -0.13595532,  0.03986988,\n",
       "         -0.10748555,  0.01415718,  0.0183325 , -0.05012123, -0.02602401,\n",
       "          0.04800905, -0.05382023,  0.11005878, -0.03181394, -0.15680717,\n",
       "         -0.18972412,  0.11052765,  0.1222297 , -0.1917675 ,  0.08384909,\n",
       "          0.09970597,  0.07481771, -0.0226064 , -0.1463527 ,  0.15566286,\n",
       "         -0.0197331 ,  0.08500857, -0.0854799 ,  0.05787198,  0.11262622,\n",
       "         -0.10274844, -0.07185539,  0.02367029,  0.06388816,  0.13108654,\n",
       "         -0.12390085, -0.03333923,  0.08062559, -0.00699142, -0.05053593,\n",
       "         -0.00845831,  0.04641611,  0.0465238 , -0.00256692,  0.02950277,\n",
       "          0.1425595 , -0.07192925,  0.0582977 , -0.00313333,  0.01244415,\n",
       "         -0.07399437, -0.00417845,  0.11839638, -0.13883752,  0.00501829,\n",
       "         -0.06173063,  0.00880799, -0.11414856,  0.0138483 ,  0.01470842,\n",
       "          0.15889794,  0.01803028,  0.0117193 ,  0.08689809, -0.05615174,\n",
       "         -0.03847782,  0.09909631, -0.06320582,  0.03085502,  0.1195503 ,\n",
       "         -0.00602103, -0.05997863, -0.04142389,  0.12940498,  0.17839125,\n",
       "          0.11521155, -0.10402887, -0.0274774 ,  0.03103223, -0.01344452,\n",
       "          0.03162118,  0.09259097,  0.07371677]], dtype=float32),\n",
       " 'Ankita': array([[ 0.11054779,  0.02016143, -0.06811821,  0.02949247,  0.03386562,\n",
       "          0.15810007,  0.05615072,  0.00982284,  0.01554587, -0.08790729,\n",
       "          0.08396438,  0.06524228,  0.09010035, -0.18274403, -0.14998938,\n",
       "          0.08894222, -0.06916337,  0.07131679, -0.22728789,  0.13520734,\n",
       "          0.21179807, -0.11333954,  0.08781599,  0.1099006 , -0.08868818,\n",
       "         -0.09084786, -0.0789901 , -0.20811054, -0.00700692,  0.05802502,\n",
       "         -0.00673879,  0.07838626, -0.03310115,  0.15364127, -0.03571776,\n",
       "         -0.03584054, -0.01679072,  0.12649736, -0.03057557, -0.02540188,\n",
       "         -0.03584699, -0.09222011, -0.0275418 , -0.00213463, -0.0062682 ,\n",
       "         -0.12773335,  0.09170709, -0.00654009, -0.15813594,  0.14336804,\n",
       "          0.01307406, -0.12339922, -0.07692498,  0.05537216,  0.02494026,\n",
       "          0.01476707,  0.03143972,  0.06320691, -0.0646389 , -0.06187843,\n",
       "         -0.02955474,  0.0178152 ,  0.1761909 , -0.17580457,  0.07339123,\n",
       "         -0.09432072, -0.05298821, -0.01036671, -0.13482319,  0.05004052,\n",
       "         -0.07888689, -0.01108833, -0.08937151,  0.04591818, -0.04198907,\n",
       "         -0.04177739,  0.09105144,  0.05121264, -0.03435479,  0.03818843,\n",
       "         -0.06053573, -0.04188645, -0.06260499, -0.05716796, -0.12239532,\n",
       "          0.13599631,  0.01636884, -0.03650239, -0.00217006,  0.04877877,\n",
       "          0.11230951, -0.22043155, -0.09107082,  0.0311047 ,  0.01773596,\n",
       "          0.06386723, -0.07687885,  0.0552198 , -0.0209794 ,  0.09195159,\n",
       "          0.06505651, -0.05459607, -0.14135867,  0.17455357,  0.0931046 ,\n",
       "          0.02130781, -0.03533641,  0.09863306, -0.04668539, -0.09966674,\n",
       "         -0.12538546,  0.12424047,  0.00423362,  0.01751393,  0.08818188,\n",
       "          0.09184229, -0.04945028,  0.01633403,  0.0373631 ,  0.15916061,\n",
       "         -0.03146694,  0.0397107 ,  0.02435295,  0.09317126,  0.0066509 ,\n",
       "          0.02910466, -0.01772093, -0.08412142]], dtype=float32),\n",
       " 'papa': array([[ 0.02580462,  0.08436731,  0.00111717, -0.02364008,  0.01003281,\n",
       "          0.184341  , -0.03901856,  0.0474085 ,  0.00841365, -0.04895108,\n",
       "          0.12151072,  0.03860849,  0.04813391, -0.15206745, -0.03736958,\n",
       "          0.04162635, -0.09849064,  0.01090224, -0.17713211,  0.07975951,\n",
       "          0.15913385, -0.06832128,  0.06627047,  0.06665444, -0.00104645,\n",
       "          0.00817404,  0.01642627, -0.15987772,  0.01668702, -0.03964558,\n",
       "          0.0815433 , -0.01809243,  0.01597821,  0.14452274, -0.02453523,\n",
       "          0.05185087, -0.01620344,  0.1574222 , -0.04474369, -0.01205801,\n",
       "          0.04318767, -0.11136644, -0.04597587,  0.09924535, -0.06831965,\n",
       "         -0.1012183 ,  0.11875065, -0.02539247, -0.21105394,  0.05916243,\n",
       "         -0.01017221, -0.0497257 , -0.12886721,  0.03472483,  0.07262443,\n",
       "          0.05245867, -0.08160987,  0.08245713, -0.06367531, -0.14237785,\n",
       "         -0.12935376, -0.09747326,  0.2064399 , -0.13507886,  0.12819351,\n",
       "         -0.04188467, -0.01960615,  0.05245554, -0.08672319,  0.16941428,\n",
       "         -0.01947123,  0.014834  , -0.07192667, -0.01877939,  0.06711769,\n",
       "         -0.07807615, -0.03060847,  0.11292183, -0.03111224,  0.04912889,\n",
       "         -0.12789536,  0.00335687,  0.02982966, -0.05763116, -0.14581317,\n",
       "          0.03979971,  0.09922339,  0.03812002,  0.04696487,  0.07564975,\n",
       "          0.08253437, -0.22431135, -0.09333705,  0.00452766, -0.00132641,\n",
       "         -0.01282011, -0.03790123,  0.04212401, -0.0351502 ,  0.00544407,\n",
       "         -0.04239994, -0.01524684, -0.11525535,  0.08200785,  0.03027345,\n",
       "          0.07402403, -0.06583218,  0.07414985,  0.00799895, -0.18619242,\n",
       "         -0.07896815,  0.1522813 , -0.07660729,  0.04850281,  0.18460377,\n",
       "          0.00772286, -0.09693496, -0.11731236,  0.10520831,  0.1600043 ,\n",
       "          0.07961649,  0.02006907,  0.03576694,  0.1188823 ,  0.09141576,\n",
       "          0.02631254,  0.1273033 ,  0.00536659]], dtype=float32)}"
      ]
     },
     "execution_count": 21,
     "metadata": {},
     "output_type": "execute_result"
    }
   ],
   "source": [
    "import pickle\n",
    "def ini_user_database():\n",
    "    # check for existing database\n",
    "    if os.path.exists('database/input_embeddings.pickle'):\n",
    "        with open('database/input_embeddings.pickle', 'rb') as handle:\n",
    "            user_db = pickle.load(handle)   \n",
    "    else:\n",
    "        # make a new one\n",
    "        # we use a dict for keeping track of mapping of each person with his/her face encoding\n",
    "        user_db = {}\n",
    "        # create the directory for saving the db pickle file\n",
    "        os.makedirs('database')\n",
    "        with open('database/input_embeddings.pickle', 'wb') as handle:\n",
    "            pickle.dump(user_db, handle, protocol=pickle.HIGHEST_PROTOCOL)   \n",
    "    return user_db\n",
    "\n",
    "input_embeddings = ini_user_database()"
   ]
  },
  {
   "cell_type": "markdown",
   "metadata": {},
   "source": [
    "- 1. Realtime Face Detetction"
   ]
  },
  {
   "cell_type": "code",
   "execution_count": 17,
   "metadata": {},
   "outputs": [],
   "source": [
    "# with open('input_embeddings.pickle','wb') as handle:\n",
    "#     pickle.dump(input_embeddings, handle, protocol=pickle.HIGHEST_PROTOCOL)"
   ]
  },
  {
   "cell_type": "code",
   "execution_count": 18,
   "metadata": {},
   "outputs": [],
   "source": [
    "# with open('input_embeddings.pickle', 'rb') as handle:\n",
    "#     input_embeddings = pickle.load(handle)  "
   ]
  },
  {
   "cell_type": "code",
   "execution_count": 22,
   "metadata": {},
   "outputs": [],
   "source": [
    "process.recognize_faces_in_cam(input_embeddings,model)"
   ]
  }
 ],
 "metadata": {
  "kernelspec": {
   "display_name": "Python 3",
   "language": "python",
   "name": "python3"
  },
  "language_info": {
   "codemirror_mode": {
    "name": "ipython",
    "version": 3
   },
   "file_extension": ".py",
   "mimetype": "text/x-python",
   "name": "python",
   "nbconvert_exporter": "python",
   "pygments_lexer": "ipython3",
   "version": "3.7.4"
  },
  "latex_envs": {
   "LaTeX_envs_menu_present": true,
   "autoclose": false,
   "autocomplete": true,
   "bibliofile": "biblio.bib",
   "cite_by": "apalike",
   "current_citInitial": 1,
   "eqLabelWithNumbers": true,
   "eqNumInitial": 1,
   "hotkeys": {
    "equation": "Ctrl-E",
    "itemize": "Ctrl-I"
   },
   "labels_anchors": false,
   "latex_user_defs": false,
   "report_style_numbering": false,
   "user_envs_cfg": false
  },
  "varInspector": {
   "cols": {
    "lenName": 16,
    "lenType": 16,
    "lenVar": 40
   },
   "kernels_config": {
    "python": {
     "delete_cmd_postfix": "",
     "delete_cmd_prefix": "del ",
     "library": "var_list.py",
     "varRefreshCmd": "print(var_dic_list())"
    },
    "r": {
     "delete_cmd_postfix": ") ",
     "delete_cmd_prefix": "rm(",
     "library": "var_list.r",
     "varRefreshCmd": "cat(var_dic_list()) "
    }
   },
   "types_to_exclude": [
    "module",
    "function",
    "builtin_function_or_method",
    "instance",
    "_Feature"
   ],
   "window_display": false
  }
 },
 "nbformat": 4,
 "nbformat_minor": 4
}
